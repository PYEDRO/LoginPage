{
 "cells": [
  {
   "cell_type": "code",
   "execution_count": 7,
   "metadata": {},
   "outputs": [],
   "source": [
    "import pickle\n",
    "import pandas as pd"
   ]
  },
  {
   "cell_type": "code",
   "execution_count": 5,
   "metadata": {},
   "outputs": [
    {
     "name": "stdout",
     "output_type": "stream",
     "text": [
      "            zpid      price   latitude  longitude  beds  baths    area\n",
      "5      112084696   640000.0  40.588550 -74.186961   3.0    4.0  2300.0\n",
      "6      112084842   620000.0  40.588411 -74.186725   4.0    4.0  2169.0\n",
      "7      112084924   967337.0  40.591935 -74.069185   6.0    4.0  3600.0\n",
      "8      112085003   645000.0  40.588457 -74.186802   3.0    4.0  1760.0\n",
      "9      112109243   693000.0  40.638607 -74.082372   3.0    2.0  1919.0\n",
      "...          ...        ...        ...        ...   ...    ...     ...\n",
      "14453   94664545   555000.0  40.630146 -74.152144   3.0    4.0  2607.0\n",
      "14454   94664818   503870.0  40.574603 -74.132469   3.0    4.0  3430.0\n",
      "14455   94664922   775000.0  40.506929 -74.247755   3.0    4.0  2000.0\n",
      "14456   94664961  1036000.0  40.539040 -74.193983   4.0    4.0  4000.0\n",
      "14460   97894614  1050000.0  40.504633 -74.230194   3.0    3.0  3364.0\n",
      "\n",
      "[10900 rows x 7 columns]\n"
     ]
    }
   ],
   "source": [
    "\n",
    "with open (\"data/df.pkl\", \"rb\") as df:\n",
    " tabela = pickle.load(df)\n",
    "\n",
    " print(tabela)"
   ]
  },
  {
   "cell_type": "code",
   "execution_count": 9,
   "metadata": {},
   "outputs": [
    {
     "name": "stdout",
     "output_type": "stream",
     "text": [
      "    ID   DXA\n",
      "0  E04  28,5\n",
      "1  E05  45,1\n",
      "2  E06  32,1\n",
      "3  E07  35,7\n",
      "4  E08  39,6\n",
      "5  E09  26,1\n",
      "6  E10  30,9\n"
     ]
    }
   ],
   "source": [
    "Perfeitos = pd.read_csv('Doutorado Navar - Página1 (1).csv', sep = \",\")\n",
    "\n",
    "with open(\"Perfeitos.pkl\", \"wb\") as img:\n",
    "    pickle.dump(Perfeitos, img)\n",
    "\n",
    "print (Perfeitos)"
   ]
  }
 ],
 "metadata": {
  "interpreter": {
   "hash": "0bc4a96e95333745667a43bcbbbb39bfb28e3c6218f2ef12e15afdde5956b837"
  },
  "kernelspec": {
   "display_name": "Python 3.8.10 ('.nv': venv)",
   "language": "python",
   "name": "python3"
  },
  "language_info": {
   "codemirror_mode": {
    "name": "ipython",
    "version": 3
   },
   "file_extension": ".py",
   "mimetype": "text/x-python",
   "name": "python",
   "nbconvert_exporter": "python",
   "pygments_lexer": "ipython3",
   "version": "3.8.10"
  },
  "orig_nbformat": 4
 },
 "nbformat": 4,
 "nbformat_minor": 2
}
